{
 "cells": [
  {
   "cell_type": "code",
   "execution_count": null,
   "metadata": {},
   "outputs": [],
   "source": [
    "# Exercise Conditional Statements\n",
    "#1.\n",
    "# Prompt the user to enter the first number\n",
    "num1 = float(input(\"Enter the first number: \"))"
   ]
  },
  {
   "cell_type": "code",
   "execution_count": null,
   "metadata": {},
   "outputs": [],
   "source": [
    "# Prompt the user to enter the second number\n",
    "num2 = float(input(\"Enter the second number: \"))"
   ]
  },
  {
   "cell_type": "code",
   "execution_count": null,
   "metadata": {},
   "outputs": [],
   "source": [
    "# Compare the two numbers and print the result\n",
    "if num1 > num2:\n",
    "    print(f\"{num1} is larger than {num2}.\")\n",
    "elif num2 > num1:\n",
    "    print(f\"{num2} is larger than {num1}.\")\n",
    "else:\n",
    "    print(\"Both numbers are equal.\")"
   ]
  },
  {
   "cell_type": "code",
   "execution_count": null,
   "metadata": {},
   "outputs": [],
   "source": [
    "#2.\n",
    "# Prompt the user to enter a numerical grade\n",
    "grade = float(input(\"Enter your numerical grade: \"))"
   ]
  },
  {
   "cell_type": "code",
   "execution_count": null,
   "metadata": {},
   "outputs": [],
   "source": [
    "# Determine and print the grade classification\n",
    "if grade >= 90:\n",
    "    print(\"Your grade is: A\")\n",
    "elif grade >= 80:\n",
    "    print(\"Your grade is: B\")\n",
    "elif grade >= 70:\n",
    "    print(\"Your grade is: C\")\n",
    "elif grade >= 60:\n",
    "    print(\"Your grade is: D\")\n",
    "else:\n",
    "    print(\"Your grade is: F\")"
   ]
  },
  {
   "cell_type": "markdown",
   "metadata": {},
   "source": [
    "3."
   ]
  },
  {
   "cell_type": "code",
   "execution_count": null,
   "metadata": {},
   "outputs": [],
   "source": [
    "# Vowels and consonants\n",
    "letter = input('Enter a letter of the alphabet: ')\n",
    "vowels = \"aeiou\"\n",
    "consonants = \"bcdfghjklmnpqrstvwxyz\""
   ]
  },
  {
   "cell_type": "code",
   "execution_count": null,
   "metadata": {
    "lines_to_next_cell": 2
   },
   "outputs": [],
   "source": [
    "# Check if the input is valid\n",
    "if len(letter) == 1 and letter.isalpha():\n",
    "    # Convert to lowercase\n",
    "    letter = letter.lower()\n",
    "\n",
    "    # Now check vowel or consonant\n",
    "    if letter in vowels:\n",
    "        print(f\"{letter} is a vowel\")\n",
    "    else:\n",
    "        print(f\"{letter} is a consonant\")\n",
    "else:\n",
    "    print(\"Invalid input, please insert a letter of the alphabet\")"
   ]
  },
  {
   "cell_type": "code",
   "execution_count": null,
   "metadata": {},
   "outputs": [],
   "source": [
    "#Bonus Exercise\n",
    "#1. \n",
    "inte= input('Please enter an integer: ')"
   ]
  },
  {
   "cell_type": "code",
   "execution_count": null,
   "metadata": {
    "lines_to_next_cell": 2
   },
   "outputs": [],
   "source": [
    "#2.\n",
    "# digits: from 0 to 9\n",
    "#  \n",
    "if inte.isdigit():\n",
    "    print (f\"{inte} The input inserted is a number\")\n",
    "else:\n",
    "    print ('The input was not an integer')"
   ]
  },
  {
   "cell_type": "markdown",
   "metadata": {},
   "source": [
    "3."
   ]
  },
  {
   "cell_type": "code",
   "execution_count": null,
   "metadata": {},
   "outputs": [],
   "source": [
    "if inte==0\n",
    "    print(f\"{inte} The number is zero\")"
   ]
  }
 ],
 "metadata": {
  "jupytext": {
   "cell_metadata_filter": "-all",
   "main_language": "python",
   "notebook_metadata_filter": "-all"
  }
 },
 "nbformat": 4,
 "nbformat_minor": 4
}
