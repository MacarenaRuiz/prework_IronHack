{
 "cells": [
  {
   "cell_type": "code",
   "execution_count": null,
   "metadata": {},
   "outputs": [],
   "source": []
  },
  {
   "cell_type": "code",
   "execution_count": null,
   "metadata": {
    "lines_to_next_cell": 1
   },
   "outputs": [],
   "source": [
    "# Define the function\n",
    "def generation_calculator(year_of_birth):\n",
    "    \"\"\"Return the generation based on year of birth.\"\"\"\n",
    "    if year_of_birth < 1949:\n",
    "        return \"Silent Generation\"\n",
    "    elif 1949 <= year_of_birth <= 1968:\n",
    "        return \"Baby Boomer\"\n",
    "    elif 1969 <= year_of_birth <= 1980:\n",
    "        return \"Generation X\"\n",
    "    elif 1981 <= year_of_birth <= 1993:\n",
    "        return \"Millennial\"\n",
    "    elif year_of_birth >= 1994:\n",
    "        return \"Generation Z\"\n",
    "    else:\n",
    "        return \"Unknown\""
   ]
  },
  {
   "cell_type": "code",
   "execution_count": null,
   "metadata": {},
   "outputs": [],
   "source": [
    "# Call the function with different test years and print the results\n",
    "test_years = [1945, 1955, 1975, 1988, 1997, 2020]"
   ]
  },
  {
   "cell_type": "code",
   "execution_count": null,
   "metadata": {
    "lines_to_next_cell": 2
   },
   "outputs": [],
   "source": [
    "for year in test_years:\n",
    "    generation = generation_calculator(year)\n",
    "    print(f\"Year: {year} → Generation: {generation}\")"
   ]
  }
 ],
 "metadata": {
  "jupytext": {
   "cell_metadata_filter": "-all",
   "main_language": "python",
   "notebook_metadata_filter": "-all"
  }
 },
 "nbformat": 4,
 "nbformat_minor": 4
}
