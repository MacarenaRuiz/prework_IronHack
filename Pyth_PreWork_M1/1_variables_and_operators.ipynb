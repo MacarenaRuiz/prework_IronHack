{
 "cells": [
  {
   "cell_type": "markdown",
   "metadata": {
    "lines_to_next_cell": 2
   },
   "source": [
    "VARIABLES AND OPERATORS"
   ]
  },
  {
   "cell_type": "code",
   "execution_count": null,
   "metadata": {},
   "outputs": [],
   "source": [
    "x1 = 1.1\n",
    "x2 = \"Ironhack\"\n",
    "x3 = \"1.1\"\n",
    "x4 = True\n",
    "x5 = \"True\"\n",
    "x6 = -1\n",
    "# 1.2 What is the difference between variables x1 and x3? x1 is decimal and x3 is string\n",
    "# 1.3 What happens if you subtract x3 from x1?is not possible, different type of data, unless you convert string tu numerical type\n",
    "# 1.4 What is the difference between variables x4 and x5? x4 is a boolen type data and x5 is an string\n",
    "# 1.5 What happens if you subtract x5 from x4? is not possible because are different type of data"
   ]
  },
  {
   "cell_type": "code",
   "execution_count": null,
   "metadata": {},
   "outputs": [],
   "source": []
  },
  {
   "cell_type": "code",
   "execution_count": null,
   "metadata": {},
   "outputs": [],
   "source": [
    "x1 = input(\"Please enter an integer number: \")"
   ]
  },
  {
   "cell_type": "code",
   "execution_count": null,
   "metadata": {},
   "outputs": [],
   "source": [
    "x2 = input(\"Please enter another integer number: \")"
   ]
  },
  {
   "cell_type": "code",
   "execution_count": null,
   "metadata": {},
   "outputs": [],
   "source": [
    "print(type(x1))\n",
    "print(type(x2))"
   ]
  },
  {
   "cell_type": "code",
   "execution_count": null,
   "metadata": {
    "lines_to_next_cell": 2
   },
   "outputs": [],
   "source": [
    "x7=int(float(x1))\n",
    "print(type(x7))\n",
    "x8=int(x2)\n",
    "print(type(x8))"
   ]
  },
  {
   "cell_type": "code",
   "execution_count": null,
   "metadata": {},
   "outputs": [],
   "source": [
    "# Question 2 \n",
    "#1.\n",
    "x1=2\n",
    "x2=3\n",
    "print(\"x1 == x2:\", x1 == x2)\n",
    "#2.\n",
    "print (\"x1>x2\", x1>x2)\n",
    "#3.\n",
    "print (\"x2>x1\", x2>x1)\n",
    "#4.\n",
    "print (\"x1!=x2\", x1!=x2)"
   ]
  },
  {
   "cell_type": "code",
   "execution_count": null,
   "metadata": {},
   "outputs": [],
   "source": [
    "x3=x1-x2\n",
    "print('Difference x3=x1-x2, is: ', x3)\n",
    "x1 = x1 + x3\n",
    "print ('x1 with his incremental is: ', x1)"
   ]
  },
  {
   "cell_type": "code",
   "execution_count": null,
   "metadata": {},
   "outputs": [],
   "source": [
    "print(x1==x2)"
   ]
  },
  {
   "cell_type": "code",
   "execution_count": null,
   "metadata": {},
   "outputs": [],
   "source": [
    "# 3. Exercise - concatenation\n",
    "name=input('What is your name: ')\n",
    "lastName=input('What is your last name: ')"
   ]
  },
  {
   "cell_type": "code",
   "execution_count": null,
   "metadata": {},
   "outputs": [],
   "source": [
    "NconcatL= ('Name and last name are:', name + \" \" + lastName)\n",
    "print(NconcatL)"
   ]
  }
 ],
 "metadata": {
  "jupytext": {
   "cell_metadata_filter": "-all",
   "main_language": "python",
   "notebook_metadata_filter": "-all"
  }
 },
 "nbformat": 4,
 "nbformat_minor": 4
}
