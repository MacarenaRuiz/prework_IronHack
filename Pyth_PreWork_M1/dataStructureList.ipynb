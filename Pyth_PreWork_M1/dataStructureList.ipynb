{
 "cells": [
  {
   "cell_type": "code",
   "execution_count": null,
   "metadata": {},
   "outputs": [],
   "source": [
    "#1. Given the list\n",
    "lst = [1, 2, 34, 5, 3, 12, 9, 8, 67, 89, 98, 90, 39, 21, 45, 46, 23, 13]\n",
    "print(len(lst))"
   ]
  },
  {
   "cell_type": "code",
   "execution_count": null,
   "metadata": {},
   "outputs": [],
   "source": [
    "#first element in the list\n",
    "print(lst[0])\n",
    "#last element in the list\n",
    "print(lst[-1])"
   ]
  },
  {
   "cell_type": "code",
   "execution_count": null,
   "metadata": {},
   "outputs": [],
   "source": [
    "#what is the index of element 90 in the list?\n",
    "index_of_90=lst.index(90)\n",
    "print(index_of_90)"
   ]
  },
  {
   "cell_type": "code",
   "execution_count": null,
   "metadata": {},
   "outputs": [],
   "source": [
    "#First 8 elements in the list\n",
    "print(lst[:8])"
   ]
  },
  {
   "cell_type": "code",
   "execution_count": null,
   "metadata": {},
   "outputs": [],
   "source": [
    "#Append elements 100 and 110 in the list\n",
    "#lst.append(100 and 110)\n",
    "lst.append(100)\n",
    "print(lst)\n",
    "lst.append(110)\n",
    "print(lst)"
   ]
  },
  {
   "cell_type": "code",
   "execution_count": null,
   "metadata": {},
   "outputs": [],
   "source": [
    "#sort the element in the list: sort in ascending/descending\n",
    "lst.sort()\n",
    "print(lst)"
   ]
  },
  {
   "cell_type": "code",
   "execution_count": null,
   "metadata": {},
   "outputs": [],
   "source": [
    "#2. \n",
    "names = [\"Alice\", \"Bob\", \"Charlie\", \"Dave\"] \n",
    "search_name = \"Bob\" # Element to search in \"names\" list"
   ]
  },
  {
   "cell_type": "code",
   "execution_count": null,
   "metadata": {},
   "outputs": [],
   "source": [
    "search_name= input('Writte the name you are looking for: ')"
   ]
  },
  {
   "cell_type": "code",
   "execution_count": null,
   "metadata": {},
   "outputs": [],
   "source": [
    "if search_name in names:\n",
    "    index= search_name.index(names)\n",
    "    print(f\"{search_name==names} was found at names {names}\")\n",
    "else:\n",
    "    print(f\"{search_name} was not found at names {names}\") "
   ]
  },
  {
   "cell_type": "code",
   "execution_count": null,
   "metadata": {},
   "outputs": [],
   "source": [
    "#3.\n",
    "numbers = [2, 4, 6, 8, 10]\n",
    "average=sum(numbers)/len(numbers)\n",
    "print(f\"The average is: {average}\")"
   ]
  }
 ],
 "metadata": {
  "jupytext": {
   "cell_metadata_filter": "-all",
   "main_language": "python",
   "notebook_metadata_filter": "-all"
  }
 },
 "nbformat": 4,
 "nbformat_minor": 4
}
