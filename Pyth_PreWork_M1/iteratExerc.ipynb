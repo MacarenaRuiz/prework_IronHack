{
 "cells": [
  {
   "cell_type": "code",
   "execution_count": null,
   "metadata": {
    "lines_to_next_cell": 0
   },
   "outputs": [],
   "source": []
  },
  {
   "cell_type": "code",
   "execution_count": null,
   "metadata": {},
   "outputs": [],
   "source": [
    "import math\n",
    "fruits = [\"apple\", \"banana\", \"orange\"]"
   ]
  },
  {
   "cell_type": "code",
   "execution_count": null,
   "metadata": {},
   "outputs": [],
   "source": [
    "for fruit in fruits:\n",
    "    print(fruit) #\n",
    "\n",
    "    print(fruit[1])"
   ]
  },
  {
   "cell_type": "code",
   "execution_count": null,
   "metadata": {},
   "outputs": [],
   "source": [
    "names = [\"Alice\", \"Bob\", \"Charlie\", \"Dave\"]"
   ]
  },
  {
   "cell_type": "code",
   "execution_count": null,
   "metadata": {},
   "outputs": [],
   "source": [
    "for name in names:\n",
    "    print(\"Hello, \" + name + \"!\")\n",
    "\n",
    "  #Exercise\n",
    "  # 1.1 Write a simple for loop to print integers from 10 to 30\n",
    "for i in range (10,31):\n",
    "    print(i, end=',')\n",
    "\n",
    "    #1.2 multiples of 5\n",
    "    for i in range (10,31):\n",
    "        if i % 5 ==0:\n",
    "            print(i, end=', ')"
   ]
  },
  {
   "cell_type": "code",
   "execution_count": null,
   "metadata": {},
   "outputs": [],
   "source": []
  },
  {
   "cell_type": "code",
   "execution_count": null,
   "metadata": {},
   "outputs": [],
   "source": [
    "## Complete exercise from chat gpt\n",
    "import math  # To use math.factorial for verification"
   ]
  },
  {
   "cell_type": "code",
   "execution_count": null,
   "metadata": {},
   "outputs": [],
   "source": [
    "# Step 1: Prompt the user for an integer\n",
    "num = input(\"Enter an integer number: \")"
   ]
  },
  {
   "cell_type": "code",
   "execution_count": null,
   "metadata": {},
   "outputs": [],
   "source": [
    "# Step 2: Validate that the input is an integer\n",
    "if num.isdigit():  # Only works for positive integers\n",
    "    num = int(num)\n",
    "\n",
    "    # Step 3: Calculate factorial using a loop\n",
    "    factorial = 1\n",
    "    for i in range(1, num + 1):\n",
    "        factorial *= i\n",
    "\n",
    "    print(f\"Factorial of {num} (calculated with loop): {factorial}\")\n",
    "\n",
    "    # Step 4: Verify with math.factorial\n",
    "    math_factorial = math.factorial(num)\n",
    "    print(f\"Factorial of {num} (calculated with math.factorial): {math_factorial}\")\n",
    "\n",
    "    # Check if both match\n",
    "    if factorial == math_factorial:\n",
    "        print(\"✅ The results match!\")\n",
    "    else:\n",
    "        print(\"❌ The results do not match!\")"
   ]
  },
  {
   "cell_type": "code",
   "execution_count": null,
   "metadata": {},
   "outputs": [],
   "source": [
    "else:\n",
    "    print(\"Invalid input. Please enter a positive integer.\")"
   ]
  },
  {
   "cell_type": "code",
   "execution_count": null,
   "metadata": {},
   "outputs": [],
   "source": []
  },
  {
   "cell_type": "code",
   "execution_count": null,
   "metadata": {},
   "outputs": [],
   "source": [
    "x = [12,43,4,1,6,343,10, 34, 12, 93, 783, 330, 896, 1, 55]"
   ]
  },
  {
   "cell_type": "code",
   "execution_count": null,
   "metadata": {},
   "outputs": [],
   "source": [
    "#2.1 Write code to find only those numbers in the list that are divisible by 3.\n",
    "for number in x:\n",
    "    if number % 3 == 0:\n",
    "        print(number, end= '. Numbers multiple of 3: , ')"
   ]
  },
  {
   "cell_type": "code",
   "execution_count": null,
   "metadata": {},
   "outputs": [],
   "source": [
    "# end digit 3\n",
    "for number in x:\n",
    "    if number % 10 == 3:\n",
    "        print (number, end= '. Numbers ending with digit 3 , ')\n",
    "#create new list with the previous list\n",
    "end_with_3 = [number for number in x if number % 10 ==3]\n",
    "print (end_with_3)\n",
    "#Convert the integers to strings and ude indexing to acces the last digit"
   ]
  },
  {
   "cell_type": "code",
   "execution_count": null,
   "metadata": {},
   "outputs": [],
   "source": [
    "x = [12,43,4,1,6,343,10, 34, 12, 93, 783, 330, 896, 1, 55]"
   ]
  },
  {
   "cell_type": "code",
   "execution_count": null,
   "metadata": {},
   "outputs": [],
   "source": [
    "#2.1 Write code to find only those numbers in the list that are divisible by 3.\n",
    "for number in x:\n",
    "    if number % 3 == 0:\n",
    "        print(number, end= '. Numbers multiple of 3: , ')"
   ]
  },
  {
   "cell_type": "code",
   "execution_count": null,
   "metadata": {},
   "outputs": [],
   "source": [
    "# end digit 3\n",
    "for number in x:\n",
    "    if number % 10 == 3:\n",
    "        print (number, end= '. Numbers ending with digit 3 , ')\n",
    "#create new list with the previous list\n",
    "end_with_3 = [number for number in x if number % 10 ==3]\n",
    "print (end_with_3)\n",
    "#Convert the integers to strings and ude indexing to acces the last digit"
   ]
  }
 ],
 "metadata": {
  "jupytext": {
   "cell_metadata_filter": "-all",
   "main_language": "python",
   "notebook_metadata_filter": "-all"
  }
 },
 "nbformat": 4,
 "nbformat_minor": 4
}
