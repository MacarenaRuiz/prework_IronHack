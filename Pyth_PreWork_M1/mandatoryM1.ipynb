{
 "cells": [
  {
   "cell_type": "code",
   "execution_count": null,
   "metadata": {
    "lines_to_next_cell": 0
   },
   "outputs": [],
   "source": []
  },
  {
   "cell_type": "code",
   "execution_count": null,
   "metadata": {},
   "outputs": [],
   "source": [
    "#PREWORK MANDATORY - M1\n",
    "import jupytext"
   ]
  },
  {
   "cell_type": "code",
   "execution_count": null,
   "metadata": {},
   "outputs": [],
   "source": [
    "#TASK 1\n",
    "numbers = [34, 15, 88, 2]\n",
    "smallest= min(numbers)\n",
    "print (smallest)"
   ]
  },
  {
   "cell_type": "code",
   "execution_count": null,
   "metadata": {
    "lines_to_next_cell": 2
   },
   "outputs": [],
   "source": [
    "numbers1 = [34, -345, -1, 100]\n",
    "smallest1= min(numbers1)\n",
    "print (smallest1)"
   ]
  },
  {
   "cell_type": "markdown",
   "metadata": {},
   "source": [
    "TASK 2\n",
    "ATM machines allow 4 or 6 digit PIN codes and PIN codes cannot contain anything but exactly 4 digits or exactly 6 digits.\n",
    "If the function is passed a valid PIN string, return true, else return false."
   ]
  },
  {
   "cell_type": "code",
   "execution_count": null,
   "metadata": {},
   "outputs": [],
   "source": [
    "#3 attempts is the only possible (3 intentos)\n",
    "attempts= 3"
   ]
  },
  {
   "cell_type": "code",
   "execution_count": null,
   "metadata": {},
   "outputs": [],
   "source": [
    "for atmMachine in range(attempts):\n",
    "    atmMachine = input ('Enter a pin code: ')\n",
    "    if atmMachine.isdigit() and (len (atmMachine)==4 or (atmMachine)==6):\n",
    "        print('Pin success')\n",
    "        break\n",
    "    else:\n",
    "        atmMachine=input('Invalid code, try again: ')\n",
    "        retry = input ('Try again, last chance: ')\n",
    "        print('Invalid code. The code needs to be 4 or 6 digits')\n",
    "        break"
   ]
  },
  {
   "cell_type": "code",
   "execution_count": null,
   "metadata": {},
   "outputs": [],
   "source": [
    "else:\n",
    "    print('3 attempts is the maximum, You account has been blocked')"
   ]
  },
  {
   "cell_type": "markdown",
   "metadata": {},
   "source": [
    "TASK 3\n",
    "Given a String,\n",
    "return the integer 1 if the String begins with the character capital A, lowercase a, or 1\n",
    "return the integer 0 if the String begins with the character capital B, lowercase b, or 2\n",
    "return -1 if the String begins with any other character."
   ]
  },
  {
   "cell_type": "code",
   "execution_count": null,
   "metadata": {},
   "outputs": [],
   "source": [
    "#But in total are 3 attempt (2+1 in else)\n",
    "attempts=2"
   ]
  },
  {
   "cell_type": "code",
   "execution_count": null,
   "metadata": {},
   "outputs": [],
   "source": [
    "for number1 in range(attempts):\n",
    "    number1= input('Please, enter an input: ')\n",
    "\n",
    "    if number1.startswith('A') or number1.startswith('a') or number1.startswith('1'):\n",
    "        print('Integer 1')\n",
    "        break\n",
    "    elif (number1.startswith)('B') or number1.startswith ('b') or number1.startswith('2'):\n",
    "        print('Integer 0')\n",
    "        break\n",
    "else:\n",
    "    number1=input('Invalid input, try again: ')\n",
    "    print('Integer -1')\n",
    "\n",
    "\n",
    "\n",
    "    #TASK 4\n",
    "    #multiples_of_3_and_5. And to return the sum of multiple 3 and multiple of 5\n",
    "    num=(1,2,3,4,5,6,7,8,9,10)"
   ]
  },
  {
   "cell_type": "code",
   "execution_count": null,
   "metadata": {
    "lines_to_next_cell": 1
   },
   "outputs": [],
   "source": [
    "def multiples_of_3_5(num):\n",
    "    total=0\n",
    "    for num in range(num):\n",
    "     if num % 3 == 0 or num % 5 ==0:\n",
    "         total +=num\n",
    "    return total"
   ]
  },
  {
   "cell_type": "code",
   "execution_count": null,
   "metadata": {
    "lines_to_next_cell": 2
   },
   "outputs": [],
   "source": [
    "print('Multiples of 3 and 5 sum, is :  ', multiples_of_3_5(10))"
   ]
  },
  {
   "cell_type": "code",
   "execution_count": null,
   "metadata": {
    "lines_to_next_cell": 1
   },
   "outputs": [],
   "source": [
    "#5 Given a number n return the difference of n and the sum of all multiples of 4 or 9 between 1 and n inclusively.\n",
    "#NOT CLEAR ??????\n",
    "numb =input('Give me a number: ')"
   ]
  },
  {
   "cell_type": "code",
   "execution_count": null,
   "metadata": {
    "lines_to_next_cell": 1
   },
   "outputs": [],
   "source": [
    "#sum multiple 4 and 9\n",
    "def multiples_of_4_9(numb):\n",
    "    total=0\n",
    "    for numb in range(numb):\n",
    "     if numb % 4 == 0 or numb % 9 ==0:\n",
    "         total +=numb\n",
    "    return total"
   ]
  },
  {
   "cell_type": "code",
   "execution_count": null,
   "metadata": {
    "lines_to_next_cell": 2
   },
   "outputs": [],
   "source": [
    "print('Multiples of 4 and 9 sum, is :  ', multiples_of_4_9(numb))"
   ]
  }
 ],
 "metadata": {
  "jupytext": {
   "cell_metadata_filter": "-all",
   "main_language": "python",
   "notebook_metadata_filter": "-all"
  }
 },
 "nbformat": 4,
 "nbformat_minor": 4
}
