{
 "cells": [
  {
   "cell_type": "code",
   "execution_count": null,
   "metadata": {
    "lines_to_next_cell": 0
   },
   "outputs": [],
   "source": []
  },
  {
   "cell_type": "markdown",
   "metadata": {},
   "source": [
    "DataStructure - dictionaries"
   ]
  },
  {
   "cell_type": "code",
   "execution_count": null,
   "metadata": {},
   "outputs": [],
   "source": [
    "word_freq = {\n",
    "  'love': 25,\n",
    "  'conversation': 1,\n",
    "  'every': 6,\n",
    "  \"we're\": 1,\n",
    "  'plate': 1,\n",
    "  'sour': 1,\n",
    "  'jukebox': 1,\n",
    "  'now': 11,\n",
    "  'taxi': 1,\n",
    "  'fast': 1,\n",
    "  'bag': 1,\n",
    "  'man': 1,\n",
    "  'push': 3,\n",
    "  'baby': 14,\n",
    "  'going': 1,\n",
    "  'you': 16,\n",
    "  \"don't\": 2,\n",
    "  'one': 1,\n",
    "  'mind': 2,\n",
    "  'backseat': 1,\n",
    "  'friends': 1,\n",
    "  'then': 3,\n",
    "  'know': 2\n",
    "}"
   ]
  },
  {
   "cell_type": "code",
   "execution_count": null,
   "metadata": {},
   "outputs": [],
   "source": [
    "print(len(word_freq))"
   ]
  },
  {
   "cell_type": "code",
   "execution_count": null,
   "metadata": {},
   "outputs": [],
   "source": [
    "#what keys are present in the list?\n",
    "print(list(word_freq.keys()))"
   ]
  },
  {
   "cell_type": "code",
   "execution_count": null,
   "metadata": {},
   "outputs": [],
   "source": [
    "#What is the frequency of following words in the dictionary:\n",
    "print(word_freq.get('friends'))\n",
    "print(word_freq.get('taxi'))\n",
    "print(word_freq.get('jukebox'))"
   ]
  },
  {
   "cell_type": "code",
   "execution_count": null,
   "metadata": {
    "lines_to_next_cell": 2
   },
   "outputs": [],
   "source": [
    "#Is the word begin present in the dictionary?\n",
    "if 'begin' in word_freq:\n",
    "    print(\"YES, 'begin' is present\")\n",
    "else:\n",
    "    print(\"No, 'begin' is not present\")"
   ]
  },
  {
   "cell_type": "markdown",
   "metadata": {},
   "source": [
    "Add the following words and their frequencies to the dictionary\n",
    "'begin': 1\n",
    "'start': 2\n",
    "'over': 1\n",
    "'body': 17"
   ]
  },
  {
   "cell_type": "code",
   "execution_count": null,
   "metadata": {},
   "outputs": [],
   "source": [
    "word_freq['begin']=1\n",
    "word_freq['start']=2\n",
    "word_freq['over']=1\n",
    "word_freq['body']=17"
   ]
  },
  {
   "cell_type": "code",
   "execution_count": null,
   "metadata": {},
   "outputs": [],
   "source": [
    "print(list(word_freq.keys()))"
   ]
  },
  {
   "cell_type": "code",
   "execution_count": null,
   "metadata": {},
   "outputs": [],
   "source": [
    "#convert the keys to a list\n",
    "word_list=list(word_freq.keys())"
   ]
  },
  {
   "cell_type": "code",
   "execution_count": null,
   "metadata": {},
   "outputs": [],
   "source": [
    "#print the list\n",
    "print(word_list)"
   ]
  },
  {
   "cell_type": "code",
   "execution_count": null,
   "metadata": {
    "lines_to_next_cell": 2
   },
   "outputs": [],
   "source": [
    "word=word_list\n",
    "print(word)"
   ]
  },
  {
   "cell_type": "code",
   "execution_count": null,
   "metadata": {},
   "outputs": [],
   "source": [
    "# #first element in the list\n",
    "# print(lst[0])\n",
    "# #last element in the list\n",
    "# print(lst[-1])\n",
    "#first word of word_list\n",
    "print(word_list[1])"
   ]
  },
  {
   "cell_type": "code",
   "execution_count": null,
   "metadata": {
    "lines_to_next_cell": 2
   },
   "outputs": [],
   "source": [
    "#last word of word_list\n",
    "print(word_list[-1])"
   ]
  },
  {
   "cell_type": "markdown",
   "metadata": {},
   "source": [
    "1.2 Can a dictionary have two key-value pairs with the same key?\n",
    "No, a dictionary just can have one key. Keys must be unique"
   ]
  },
  {
   "cell_type": "markdown",
   "metadata": {},
   "source": [
    "1.3 Can a dictionary have two key-value pairs with the same value but different keys?\n",
    "Yes, can have same value but with different key\n",
    "example names={'Gonzalo': 2, 'Luis':2}"
   ]
  }
 ],
 "metadata": {
  "jupytext": {
   "cell_metadata_filter": "-all",
   "main_language": "python",
   "notebook_metadata_filter": "-all"
  }
 },
 "nbformat": 4,
 "nbformat_minor": 4
}
