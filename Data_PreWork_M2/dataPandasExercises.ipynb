{
 "cells": [
  {
   "cell_type": "code",
   "execution_count": null,
   "metadata": {
    "lines_to_next_cell": 0
   },
   "outputs": [],
   "source": []
  },
  {
   "cell_type": "code",
   "execution_count": null,
   "metadata": {},
   "outputs": [],
   "source": [
    "import pandas as pd"
   ]
  },
  {
   "cell_type": "code",
   "execution_count": null,
   "metadata": {
    "lines_to_next_cell": 2
   },
   "outputs": [],
   "source": [
    "#to read from github\n",
    "#url: https://raw.githubusercontent.com/data-bootcamp-v4/prework_data/main/students_performance.csv\n",
    "students_performance_data = pd.read_csv('https://raw.githubusercontent.com/data-bootcamp-v4/prework_data/main/students_performance.csv')\n",
    "print(students_performance_data.head())"
   ]
  },
  {
   "cell_type": "code",
   "execution_count": null,
   "metadata": {},
   "outputs": [],
   "source": [
    "# to read from path in local\n",
    "students_performance_data = pd.read_csv(r\"C:\\Users\\macar\\Desktop\\Formación\\IRONHACK\\Data_PreWork_M2\\students_performance.csv\")\n",
    "print(students_performance_data)\n",
    "students_performance_data.head()\n",
    "#print (vari) --> terminal\n",
    "#vari.head() --> visualiza en interactive window"
   ]
  },
  {
   "cell_type": "code",
   "execution_count": null,
   "metadata": {},
   "outputs": [],
   "source": [
    "#Number of rows and columns\n",
    "num_rows=len(students_performance_data)\n",
    "print(\"Number of rows: \", num_rows)"
   ]
  },
  {
   "cell_type": "code",
   "execution_count": null,
   "metadata": {},
   "outputs": [],
   "source": [
    "num_cols=len(students_performance_data.columns)\n",
    "print(\"Number of columns: \", num_cols)"
   ]
  },
  {
   "cell_type": "code",
   "execution_count": null,
   "metadata": {},
   "outputs": [],
   "source": []
  },
  {
   "cell_type": "code",
   "execution_count": null,
   "metadata": {},
   "outputs": [],
   "source": [
    "#Number of unique values for each column (gender, race/ethinicity, parental level, level of education, lunch, test)\n",
    "unique_values_gender = students_performance_data['gender'].unique()\n",
    "print('Unique values in gender, are: ' ,unique_values_gender)"
   ]
  },
  {
   "cell_type": "code",
   "execution_count": null,
   "metadata": {},
   "outputs": [],
   "source": [
    "unique_values_race = students_performance_data['race/ethnicity'].unique()\n",
    "print('Unique values in race, are: ', unique_values_race)"
   ]
  },
  {
   "cell_type": "code",
   "execution_count": null,
   "metadata": {
    "lines_to_next_cell": 2
   },
   "outputs": [],
   "source": [
    "#to print all values of each column of the data frame\n",
    "for column in students_performance_data.columns:\n",
    "    unique_vals= students_performance_data[column].unique()\n",
    "    print(f\"\\nunique values in column' {column}': \")\n",
    "    print(unique_vals)"
   ]
  },
  {
   "cell_type": "code",
   "execution_count": null,
   "metadata": {},
   "outputs": [],
   "source": [
    "#NOT CLEAR ???\n",
    "    if len(unique_vals) < 10:\n",
    "        print(f\"\\nShow me those ones: ' {unique_vals}': \")\n",
    "    else:\n",
    "        print('Are more than 10 values')"
   ]
  },
  {
   "cell_type": "code",
   "execution_count": null,
   "metadata": {},
   "outputs": [],
   "source": []
  },
  {
   "cell_type": "code",
   "execution_count": null,
   "metadata": {},
   "outputs": [],
   "source": []
  },
  {
   "cell_type": "code",
   "execution_count": null,
   "metadata": {},
   "outputs": [],
   "source": [
    "#Calculate mean, median, mode, standard deviation and range for numerical variables\n",
    "#math score, reading score and writing score\n",
    "print('The mean for math score is: ', students_performance_data['math score'].mean())\n",
    "print('The mean for reading score is: ', students_performance_data['reading score'].mean())\n",
    "print('The mean for writing score is: ', students_performance_data['writing score'].mean())"
   ]
  },
  {
   "cell_type": "code",
   "execution_count": null,
   "metadata": {},
   "outputs": [],
   "source": [
    "#MEAN\n",
    "students_performance_data_mean=students_performance_data[['math score', 'reading score', 'writing score']].mean()\n",
    "print('The mean for these 3 columns, are: ', students_performance_data_mean)"
   ]
  },
  {
   "cell_type": "code",
   "execution_count": null,
   "metadata": {},
   "outputs": [],
   "source": [
    "#MEDIAN\n",
    "students_performance_data_median= students_performance_data[['math score', 'reading score', 'writing score']].median()\n",
    "print('The median for these 3 columns, are: ', students_performance_data_median)"
   ]
  },
  {
   "cell_type": "code",
   "execution_count": null,
   "metadata": {},
   "outputs": [],
   "source": [
    "#MODE\n",
    "students_performance_mode = students_performance_data[['math score', 'reading score', 'writing score']].mode()\n",
    "print('The mode of these 3 columns, are: ', students_performance_mode)"
   ]
  },
  {
   "cell_type": "code",
   "execution_count": null,
   "metadata": {},
   "outputs": [],
   "source": [
    "#STANDARD DEVIATION\n",
    "students_performance_sd = students_performance_data[['math score', 'reading score', 'writing score']].std()\n",
    "print('The standard deviation of these 3 columns, are: ',students_performance_sd)\n",
    "#RANGE\n",
    "range_values_max= students_performance_data[['math score', 'reading score', 'writing score']].max()    \n",
    "range_values_min= students_performance_data[['math score', 'reading score', 'writing score']].min()"
   ]
  },
  {
   "cell_type": "code",
   "execution_count": null,
   "metadata": {},
   "outputs": [],
   "source": [
    "range_values_total=(range_values_max-range_values_min)\n",
    "print('The range values, are: ',range_values_total)"
   ]
  },
  {
   "cell_type": "markdown",
   "metadata": {},
   "source": [
    "for numerical variables and frecuency counts for categorical variables\n",
    "frequency counts "
   ]
  },
  {
   "cell_type": "code",
   "execution_count": null,
   "metadata": {},
   "outputs": [],
   "source": [
    "students_performance_data_counts = students_performance_data[['gender', 'race/ethnicity','parental level of education','lunch','test preparation course']].value_counts()\n",
    "print('The counts for categorical valuables: ', students_performance_data_counts)\n",
    "#Gender\n",
    "#race/ethinicity\n",
    "#parental level of education\n",
    "#lunch\n",
    "#test preparation course"
   ]
  }
 ],
 "metadata": {
  "jupytext": {
   "cell_metadata_filter": "-all",
   "main_language": "python",
   "notebook_metadata_filter": "-all"
  }
 },
 "nbformat": 4,
 "nbformat_minor": 4
}
