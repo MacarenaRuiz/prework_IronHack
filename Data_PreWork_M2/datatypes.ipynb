
import pandas as pd

df=pd.read_csv('student_performance.csv')

#we can read from and online URL
#studente_Perfomance_Data = pd.read_csv('C:\Users\macar\Desktop\Formación\IRONHACK\Data Pre-Work M2')
studente_Perfomance_Data = pd.read_csv('https://github.com/data-bootcamp-v4/data/blob/main/student_performance.csv')

#display the firs few rows of the dataset
df.head()

#Numerical Variables: 
# Continuous: 
# Discrete:math score, reading sccore, writing score

#Categorical variables: 
# Ordinal: gender, parent level of education, test preparation 
# Nominal:gender,race/ethnicity