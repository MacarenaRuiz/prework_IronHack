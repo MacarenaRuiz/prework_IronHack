{
 "cells": [
  {
   "cell_type": "code",
   "execution_count": null,
   "metadata": {
    "lines_to_next_cell": 0
   },
   "outputs": [],
   "source": []
  },
  {
   "cell_type": "code",
   "execution_count": null,
   "metadata": {},
   "outputs": [],
   "source": [
    "import pandas as pd\n",
    "import statistics\n",
    "import seaborn as sns\n",
    "import matplotlib.pyplot as plt\n",
    "import numpy as np"
   ]
  },
  {
   "cell_type": "code",
   "execution_count": null,
   "metadata": {},
   "outputs": [],
   "source": [
    "import jupytext"
   ]
  },
  {
   "cell_type": "code",
   "execution_count": null,
   "metadata": {},
   "outputs": [],
   "source": []
  },
  {
   "cell_type": "code",
   "execution_count": null,
   "metadata": {},
   "outputs": [],
   "source": [
    "# Task 1\n",
    "# 1.1\n",
    "#I have tried manually 4 times with the 5 options\n",
    "lst=[95,87,85,85,90,89,90,88,96]"
   ]
  },
  {
   "cell_type": "code",
   "execution_count": null,
   "metadata": {},
   "outputs": [],
   "source": [
    "med_median= statistics.median(lst)\n",
    "print('The median is: ', med_median)"
   ]
  },
  {
   "cell_type": "markdown",
   "metadata": {},
   "source": [
    "(88,96)"
   ]
  },
  {
   "cell_type": "code",
   "execution_count": null,
   "metadata": {},
   "outputs": [],
   "source": [
    "#1.2\n",
    "mathquizzes=[88,100,72,91,89]\n",
    "mathquizzes_mean= statistics.mean(mathquizzes)\n",
    "print('The mean is: ', mathquizzes_mean)\n",
    "#Mean is 88, after 6 quizzes is 89"
   ]
  },
  {
   "cell_type": "markdown",
   "metadata": {},
   "source": [
    "score Sams 6 quiz= 82"
   ]
  },
  {
   "cell_type": "code",
   "execution_count": null,
   "metadata": {},
   "outputs": [],
   "source": [
    "mathquizzes2=[88,100,72,91,89,82]\n",
    "mathquizzes2_mean = statistics.mean(mathquizzes2)\n",
    "print('The mean is, after the 6th exam: ', mathquizzes2_mean)"
   ]
  },
  {
   "cell_type": "markdown",
   "metadata": {},
   "source": [
    "1.2.1 TRUE\n",
    "1.2.2 TRUE\n",
    "1.2.3 FALSE\n",
    "1.2.4 TRUE\n",
    "OPTION A"
   ]
  },
  {
   "cell_type": "code",
   "execution_count": null,
   "metadata": {},
   "outputs": [],
   "source": [
    "#1.3 \n",
    "store1=[1,1.5,2,1,0.5]\n",
    "store2=[2,2.5,4,4,1]\n",
    "store3=[10,3,2,4,2]"
   ]
  },
  {
   "cell_type": "code",
   "execution_count": null,
   "metadata": {},
   "outputs": [],
   "source": [
    "#VARIANCE\n",
    "var1=statistics.variance(store1)\n",
    "print('The variance for the store1:' , var1)"
   ]
  },
  {
   "cell_type": "code",
   "execution_count": null,
   "metadata": {},
   "outputs": [],
   "source": [
    "var2=statistics.variance(store2)\n",
    "print('The variance for the store2:' , var2)"
   ]
  },
  {
   "cell_type": "code",
   "execution_count": null,
   "metadata": {},
   "outputs": [],
   "source": [
    "var3=statistics.variance(store3)\n",
    "print('The variance for the store2:' , var3)"
   ]
  },
  {
   "cell_type": "code",
   "execution_count": null,
   "metadata": {},
   "outputs": [],
   "source": [
    "#MEAN\n",
    "averageStore1 = statistics.mean(store1)\n",
    "print('The mean in store1: ',averageStore1)"
   ]
  },
  {
   "cell_type": "code",
   "execution_count": null,
   "metadata": {},
   "outputs": [],
   "source": [
    "averageStore2 = statistics.mean(store2)\n",
    "print('The mean in store2, is: ', averageStore2)"
   ]
  },
  {
   "cell_type": "code",
   "execution_count": null,
   "metadata": {},
   "outputs": [],
   "source": [
    "averageStore3 = statistics.mean(store3)\n",
    "print('The mean in store 3, is: ', averageStore3)"
   ]
  },
  {
   "cell_type": "code",
   "execution_count": null,
   "metadata": {},
   "outputs": [],
   "source": [
    "#MEDIAN\n",
    "medStore1= statistics.median(store1)\n",
    "print('The median in store1: ', medStore1)"
   ]
  },
  {
   "cell_type": "code",
   "execution_count": null,
   "metadata": {},
   "outputs": [],
   "source": [
    "medStore2=statistics.median(store2)\n",
    "print('The median in store 2: ', medStore2)"
   ]
  },
  {
   "cell_type": "code",
   "execution_count": null,
   "metadata": {},
   "outputs": [],
   "source": [
    "medStore3 = statistics.median(store3)\n",
    "print('The median in store 3 is: ', medStore3)"
   ]
  },
  {
   "cell_type": "markdown",
   "metadata": {
    "lines_to_next_cell": 2
   },
   "source": [
    "1.4 -4.A\n",
    "1.5 Histogram\n",
    "1.6 Frequency count\n",
    "1.7 green \n",
    "1.8 mean"
   ]
  },
  {
   "cell_type": "markdown",
   "metadata": {},
   "source": [
    "Task 2\n",
    "2.1 Imposible to answer, 2.2 Warner bros, 2.3 Universal, 2.4 Warner Bros, 2.5 Paramount"
   ]
  },
  {
   "cell_type": "markdown",
   "metadata": {},
   "source": [
    "Task 3\n",
    "3.1- 3 , 3.2 - 116, 3.3 - 11, 3.4 - 2005, 2.5 - 4"
   ]
  },
  {
   "cell_type": "markdown",
   "metadata": {},
   "source": [
    "Task 4\n",
    "4.1 - 4:5, 4.2 - 75,55%, 4.3- 82,5%, 4.4- 80%,  4.5 - 560"
   ]
  }
 ],
 "metadata": {
  "jupytext": {
   "cell_metadata_filter": "-all",
   "main_language": "python",
   "notebook_metadata_filter": "-all"
  }
 },
 "nbformat": 4,
 "nbformat_minor": 4
}
